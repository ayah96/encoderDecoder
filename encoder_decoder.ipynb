{
  "nbformat": 4,
  "nbformat_minor": 0,
  "metadata": {
    "accelerator": "GPU",
    "colab": {
      "name": "encoder_decoder.ipynb",
      "provenance": [],
      "collapsed_sections": [],
      "toc_visible": true
    },
    "kernelspec": {
      "display_name": "Python 3",
      "name": "python3"
    }
  },
  "cells": [
    {
      "cell_type": "markdown",
      "metadata": {
        "id": "J0Qjg6vuaHNt"
      },
      "source": [
        "# Setup"
      ]
    },
    {
      "cell_type": "code",
      "metadata": {
        "id": "tnxXKDjq3jEL"
      },
      "source": [
        "import tensorflow as tf\n",
        "\n",
        "import matplotlib.pyplot as plt\n",
        "import matplotlib.ticker as ticker\n",
        "from sklearn.model_selection import train_test_split\n",
        "import pandas as pd\n",
        "\n",
        "import unicodedata\n",
        "import re\n",
        "import numpy as np\n",
        "import os\n",
        "import io\n",
        "import time"
      ],
      "execution_count": null,
      "outputs": []
    },
    {
      "cell_type": "code",
      "metadata": {
        "colab": {
          "base_uri": "https://localhost:8080/"
        },
        "id": "ubQ933RvTKd7",
        "outputId": "54641ea3-03ba-466c-c711-a8dd993a9890"
      },
      "source": [
        "#--download dataset\n",
        "!git clone https://github.com/wangcunxiang/SemEval2020-Task4-Commonsense-Validation-and-Explanation.git"
      ],
      "execution_count": 1,
      "outputs": [
        {
          "output_type": "stream",
          "name": "stdout",
          "text": [
            "Cloning into 'SemEval2020-Task4-Commonsense-Validation-and-Explanation'...\n",
            "remote: Enumerating objects: 88, done.\u001b[K\n",
            "remote: Counting objects: 100% (88/88), done.\u001b[K\n",
            "remote: Compressing objects: 100% (66/66), done.\u001b[K\n",
            "remote: Total 88 (delta 36), reused 64 (delta 19), pack-reused 0\u001b[K\n",
            "Unpacking objects: 100% (88/88), done.\n"
          ]
        }
      ]
    },
    {
      "cell_type": "code",
      "metadata": {
        "colab": {
          "base_uri": "https://localhost:8080/",
          "height": 142
        },
        "id": "fQvAFreu-4do",
        "outputId": "6ae11fa4-3d88-472b-b5da-55103775b4ff"
      },
      "source": [
        "#--read dataset\n",
        "input_train = pd.read_csv('/content/SemEval2020-Task4-Commonsense-Validation-and-Explanation/ALL data/Training  Data/subtaskC_data_all.csv', index_col='id')\n",
        "target_train = pd.read_csv('/content/SemEval2020-Task4-Commonsense-Validation-and-Explanation/ALL data/Training  Data/subtaskC_answers_all.csv', names=['id','r1', 'r2','r3' ], index_col='id')\n",
        "\n",
        "input_dev = pd.read_csv('/content/SemEval2020-Task4-Commonsense-Validation-and-Explanation/ALL data/Dev Data/subtaskC_dev_data.csv', index_col='id')\n",
        "target_dev= pd.read_csv('/content/SemEval2020-Task4-Commonsense-Validation-and-Explanation/ALL data/Dev Data/subtaskC_gold_answers.csv', names=['id','r1', 'r2','r3' ], index_col='id')\n",
        "\n",
        "input_test = pd.read_csv('/content/SemEval2020-Task4-Commonsense-Validation-and-Explanation/ALL data/Test Data/subtaskC_test_data.csv', index_col='id')\n",
        "target_test= pd.read_csv('/content/SemEval2020-Task4-Commonsense-Validation-and-Explanation/ALL data/Test Data/subtaskC_gold_answers.csv', names=['id','r1', 'r2','r3' ], index_col='id')\n",
        "input_train.head(2)"
      ],
      "execution_count": null,
      "outputs": [
        {
          "output_type": "execute_result",
          "data": {
            "text/html": [
              "<div>\n",
              "<style scoped>\n",
              "    .dataframe tbody tr th:only-of-type {\n",
              "        vertical-align: middle;\n",
              "    }\n",
              "\n",
              "    .dataframe tbody tr th {\n",
              "        vertical-align: top;\n",
              "    }\n",
              "\n",
              "    .dataframe thead th {\n",
              "        text-align: right;\n",
              "    }\n",
              "</style>\n",
              "<table border=\"1\" class=\"dataframe\">\n",
              "  <thead>\n",
              "    <tr style=\"text-align: right;\">\n",
              "      <th></th>\n",
              "      <th>FalseSent</th>\n",
              "    </tr>\n",
              "    <tr>\n",
              "      <th>id</th>\n",
              "      <th></th>\n",
              "    </tr>\n",
              "  </thead>\n",
              "  <tbody>\n",
              "    <tr>\n",
              "      <th>0</th>\n",
              "      <td>He poured orange juice on his cereal.</td>\n",
              "    </tr>\n",
              "    <tr>\n",
              "      <th>1</th>\n",
              "      <td>He drinks apple.</td>\n",
              "    </tr>\n",
              "  </tbody>\n",
              "</table>\n",
              "</div>"
            ],
            "text/plain": [
              "                                FalseSent\n",
              "id                                       \n",
              "0   He poured orange juice on his cereal.\n",
              "1                        He drinks apple."
            ]
          },
          "metadata": {
            "tags": []
          },
          "execution_count": 3
        }
      ]
    },
    {
      "cell_type": "code",
      "metadata": {
        "id": "qXIac3ko-ILt"
      },
      "source": [
        "'''\n",
        "Merge nonsensical sentences (false sent) with Referential Reasons (r1, r2, and r3) separately\n",
        "\n",
        "sent1    r1\n",
        "sent1    r2\n",
        "sent1    r3\n",
        "\n",
        "'''\n",
        "def merge_dataset (inp_col, tar1_col, tar2_col, tar3_col, mode):\n",
        "    data = []\n",
        "    reasons = []\n",
        "    start_tag = []\n",
        "\n",
        "    if mode == \"test\":\n",
        "        for i in range(len(inp_col)):\n",
        "            start_tag.append(\"<START>\")\n",
        "            data.append(inp_col[i])\n",
        "    else:\n",
        "        for i in range(len(inp_col)):\n",
        "            data.append(inp_col[i])\n",
        "            data.append(inp_col[i])\n",
        "            data.append(inp_col[i])\n",
        "\n",
        "            reasons.append(tar1_col[i])\n",
        "            reasons.append(tar2_col[i])\n",
        "            reasons.append(tar3_col[i])\n",
        "\n",
        "    if mode == \"test\":\n",
        "        df = pd.DataFrame(list(zip(data, start_tag)),\n",
        "                columns =['statment', 'reasons'])\n",
        "\n",
        "    else:\n",
        "        df = pd.DataFrame(list(zip(data, reasons)),\n",
        "                columns =['statment', 'reasons'])\n",
        "    \n",
        "    return df"
      ],
      "execution_count": null,
      "outputs": []
    },
    {
      "cell_type": "code",
      "metadata": {
        "colab": {
          "base_uri": "https://localhost:8080/",
          "height": 142
        },
        "id": "o09W-jhOsUBV",
        "outputId": "0c784012-b2dd-48d8-de61-ae658995ad9e"
      },
      "source": [
        "dataset_train = merge_dataset(input_train['FalseSent'], target_train['r1'], target_train['r2'], target_train['r3'],\"train\")\n",
        "\n",
        "input_dev = input_dev.reset_index(drop=True)\n",
        "target_dev=target_dev.reset_index(drop = True)\n",
        "dataset_dev = merge_dataset(input_dev['FalseSent'], target_dev['r1'], target_dev['r2'], target_dev['r3'], \"train\")\n",
        "\n",
        "input_test = input_test.reset_index(drop= True)\n",
        "target_test = target_test.reset_index(drop= True)\n",
        "dataset_test = merge_dataset(input_test['FalseSent'], target_test['r1'], target_test['r2'], target_test['r3'],\"test\") #\"test\")\n",
        "\n",
        "\n",
        "dataset_train.head(3)"
      ],
      "execution_count": null,
      "outputs": [
        {
          "output_type": "execute_result",
          "data": {
            "text/html": [
              "<div>\n",
              "<style scoped>\n",
              "    .dataframe tbody tr th:only-of-type {\n",
              "        vertical-align: middle;\n",
              "    }\n",
              "\n",
              "    .dataframe tbody tr th {\n",
              "        vertical-align: top;\n",
              "    }\n",
              "\n",
              "    .dataframe thead th {\n",
              "        text-align: right;\n",
              "    }\n",
              "</style>\n",
              "<table border=\"1\" class=\"dataframe\">\n",
              "  <thead>\n",
              "    <tr style=\"text-align: right;\">\n",
              "      <th></th>\n",
              "      <th>statment</th>\n",
              "      <th>reasons</th>\n",
              "    </tr>\n",
              "  </thead>\n",
              "  <tbody>\n",
              "    <tr>\n",
              "      <th>0</th>\n",
              "      <td>He poured orange juice on his cereal.</td>\n",
              "      <td>Orange juice doesn't taste good on cereal.</td>\n",
              "    </tr>\n",
              "    <tr>\n",
              "      <th>1</th>\n",
              "      <td>He poured orange juice on his cereal.</td>\n",
              "      <td>Orange juice is poured in a glass.</td>\n",
              "    </tr>\n",
              "    <tr>\n",
              "      <th>2</th>\n",
              "      <td>He poured orange juice on his cereal.</td>\n",
              "      <td>Orange juice does not taste good on cereal.</td>\n",
              "    </tr>\n",
              "  </tbody>\n",
              "</table>\n",
              "</div>"
            ],
            "text/plain": [
              "                                statment                                      reasons\n",
              "0  He poured orange juice on his cereal.   Orange juice doesn't taste good on cereal.\n",
              "1  He poured orange juice on his cereal.           Orange juice is poured in a glass.\n",
              "2  He poured orange juice on his cereal.  Orange juice does not taste good on cereal."
            ]
          },
          "metadata": {
            "tags": []
          },
          "execution_count": 6
        }
      ]
    },
    {
      "cell_type": "code",
      "metadata": {
        "colab": {
          "base_uri": "https://localhost:8080/"
        },
        "id": "w9Z-QchbBJIY",
        "outputId": "9d7a0553-7b7f-485f-9899-2458f7eea973"
      },
      "source": [
        "#---merge all columns into one column; to build vocabulary dictionary ----\n",
        "\n",
        "one_col = input_train['FalseSent'].append([target_train['r1'], target_train['r2'], target_train['r3'], input_dev['FalseSent'], target_dev['r1'], target_dev['r2'], target_dev['r3'],input_test['FalseSent'], target_test['r1'], target_test['r2'], target_test['r3'] ]).reset_index(drop=True)\n",
        "one_col"
      ],
      "execution_count": null,
      "outputs": [
        {
          "output_type": "execute_result",
          "data": {
            "text/plain": [
              "0                    He poured orange juice on his cereal.\n",
              "1                                         He drinks apple.\n",
              "2                             Jeff ran 100,000 miles today\n",
              "3                                       I sting a mosquito\n",
              "4                                   A giraffe is a person.\n",
              "                               ...                        \n",
              "47983                        The sun only shines sunlight.\n",
              "47984    Ice hockey is like an financial institution wi...\n",
              "47985    Throwing water in the freezer would just make ...\n",
              "47986               Sand is neither imbibable nor a fluid.\n",
              "47987    2 inches of distance is not enough for a perso...\n",
              "Length: 47988, dtype: object"
            ]
          },
          "metadata": {
            "tags": []
          },
          "execution_count": 7
        }
      ]
    },
    {
      "cell_type": "code",
      "metadata": {
        "id": "pQZRSbMOTJ8N"
      },
      "source": [
        "def preprocess_sentence(w):\n",
        "  w = w.lower().strip()\n",
        "\n",
        "  # creating a space between a word and the punctuation following it\n",
        "  # eg: \"he is a boy.\" => \"he is a boy .\"\n",
        "  w = re.sub(r\"([?.!,¿])\", r\" \\1 \", w)\n",
        "  w = re.sub(r'[\" \"]+', \" \", w)\n",
        "\n",
        "  w = w.strip()\n",
        "\n",
        "  # adding a start and an end token to the sentence\n",
        "  # so that the model know when to start and stop predicting.\n",
        "  w = '<start> ' + w + ' <end>'\n",
        "  return w"
      ],
      "execution_count": null,
      "outputs": []
    },
    {
      "cell_type": "code",
      "metadata": {
        "colab": {
          "base_uri": "https://localhost:8080/"
        },
        "id": "TcWYZnufTJ4R",
        "outputId": "f5177a13-a06e-4091-c83f-7fa54e576e28"
      },
      "source": [
        "sentence = \"He poured orange juice on his cereal.\"\n",
        "print(preprocess_sentence(sentence))\n"
      ],
      "execution_count": null,
      "outputs": [
        {
          "output_type": "stream",
          "text": [
            "<start> he poured orange juice on his cereal . <end>\n"
          ],
          "name": "stdout"
        }
      ]
    },
    {
      "cell_type": "code",
      "metadata": {
        "colab": {
          "base_uri": "https://localhost:8080/"
        },
        "id": "IX7tutE3gnW6",
        "outputId": "3c56ca97-e70b-4eee-a5d1-e706a9ce5a04"
      },
      "source": [
        "inp_lang_train= dataset_train['statment'].map(lambda x:preprocess_sentence(x))\n",
        "targ_lang_train= dataset_train['reasons'].map(lambda x:preprocess_sentence(x))\n",
        "\n",
        "\n",
        "inp_lang_val = dataset_dev['statment'].map(lambda x:preprocess_sentence(x))\n",
        "targ_lang_val = dataset_dev['reasons'].map(lambda x:preprocess_sentence(x))\n",
        "\n",
        "inp_lang_test = dataset_test['statment'].map(lambda x:preprocess_sentence(x))\n",
        "targ_lang_test = dataset_test['reasons'].map(lambda x:preprocess_sentence(x))\n",
        "\n",
        "print(inp_lang_train[1], targ_lang_train[1] )"
      ],
      "execution_count": null,
      "outputs": [
        {
          "output_type": "stream",
          "text": [
            "<start> he poured orange juice on his cereal . <end> <start> orange juice is poured in a glass . <end>\n"
          ],
          "name": "stdout"
        }
      ]
    },
    {
      "cell_type": "code",
      "metadata": {
        "id": "DENPX3wHb6-o"
      },
      "source": [
        "one_col_pre = one_col.map(lambda x: preprocess_sentence(x))"
      ],
      "execution_count": null,
      "outputs": []
    },
    {
      "cell_type": "code",
      "metadata": {
        "id": "bSKFoF7TTJw4"
      },
      "source": [
        "def tokenize(lang):\n",
        "  lang_tokenizer = tf.keras.preprocessing.text.Tokenizer(filters='')\n",
        "  lang_tokenizer.fit_on_texts(lang)\n",
        "\n",
        "  tensor = lang_tokenizer.texts_to_sequences(lang)\n",
        "\n",
        "  tensor = tf.keras.preprocessing.sequence.pad_sequences(tensor,\n",
        "                                                         padding='post')\n",
        "\n",
        "  return tensor, lang_tokenizer"
      ],
      "execution_count": null,
      "outputs": []
    },
    {
      "cell_type": "code",
      "source": [
        "#---tokenizer----\n",
        "lang_tokenizer = tf.keras.preprocessing.text.Tokenizer(filters='')\n",
        "lang_tokenizer.fit_on_texts(one_col_pre)\n",
        "\n",
        "#train\n",
        "input_tensor = tf.keras.preprocessing.sequence.pad_sequences(lang_tokenizer.texts_to_sequences(inp_lang_train),\n",
        "                                                        padding='post')\n",
        "target_tensor = tf.keras.preprocessing.sequence.pad_sequences(lang_tokenizer.texts_to_sequences(targ_lang_train),\n",
        "                                                        padding='post')\n",
        "\n",
        "#Val \n",
        "input_tensor_val = tf.keras.preprocessing.sequence.pad_sequences(lang_tokenizer.texts_to_sequences(inp_lang_val), padding='post')\n",
        "target_tensor_val = tf.keras.preprocessing.sequence.pad_sequences(lang_tokenizer.texts_to_sequences(targ_lang_val),padding='post')"
      ],
      "metadata": {
        "id": "g4iwwCuabJjT"
      },
      "execution_count": null,
      "outputs": []
    },
    {
      "cell_type": "code",
      "metadata": {
        "colab": {
          "base_uri": "https://localhost:8080/"
        },
        "id": "KRiTva0eO5mD",
        "outputId": "f791665c-3604-4887-9bf1-d57674ce6688"
      },
      "source": [
        "target_tensor_val.shape"
      ],
      "execution_count": null,
      "outputs": [
        {
          "output_type": "execute_result",
          "data": {
            "text/plain": [
              "(2991, 38)"
            ]
          },
          "metadata": {
            "tags": []
          },
          "execution_count": 13
        }
      ]
    },
    {
      "cell_type": "code",
      "metadata": {
        "colab": {
          "base_uri": "https://localhost:8080/",
          "height": 35
        },
        "id": "bI3cu49gp_ZC",
        "outputId": "502070db-6d1a-4055-f841-fdce55db550a"
      },
      "source": [
        "inp_lang_train[0]"
      ],
      "execution_count": null,
      "outputs": [
        {
          "output_type": "execute_result",
          "data": {
            "application/vnd.google.colaboratory.intrinsic+json": {
              "type": "string"
            },
            "text/plain": [
              "'<start> he poured orange juice on his cereal . <end>'"
            ]
          },
          "metadata": {
            "tags": []
          },
          "execution_count": 15
        }
      ]
    },
    {
      "cell_type": "code",
      "metadata": {
        "colab": {
          "base_uri": "https://localhost:8080/"
        },
        "id": "sxqMSjh9jdiX",
        "outputId": "f353ff44-7f0a-4978-a09e-fab1b066efd2"
      },
      "source": [
        "input_tensor[0]"
      ],
      "execution_count": null,
      "outputs": [
        {
          "output_type": "execute_result",
          "data": {
            "text/plain": [
              "array([   1,    9,  513, 1569,  616,   11,   16, 1570,    4,    2,    0,\n",
              "          0,    0,    0,    0,    0,    0,    0,    0,    0,    0,    0,\n",
              "          0,    0,    0,    0,    0], dtype=int32)"
            ]
          },
          "metadata": {
            "tags": []
          },
          "execution_count": 45
        }
      ]
    },
    {
      "cell_type": "code",
      "metadata": {
        "colab": {
          "base_uri": "https://localhost:8080/"
        },
        "id": "w30Nx3gBkE5w",
        "outputId": "4f280a2a-4ae5-477e-cac0-72f22ff55fdd"
      },
      "source": [
        "input_tensor.shape"
      ],
      "execution_count": null,
      "outputs": [
        {
          "output_type": "execute_result",
          "data": {
            "text/plain": [
              "(30000, 27)"
            ]
          },
          "metadata": {
            "tags": []
          },
          "execution_count": 46
        }
      ]
    },
    {
      "cell_type": "markdown",
      "metadata": {
        "id": "5ubjJB0rjWZ6"
      },
      "source": [
        "# **Parameters**"
      ]
    },
    {
      "cell_type": "code",
      "metadata": {
        "id": "cnxC7q-j3jFD"
      },
      "source": [
        "# Try experimenting with the size of that dataset\n",
        "num_examples = input_tensor.shape #30000\n",
        "\n",
        "# Calculate max_length of the target tensors\n",
        "max_length_targ, max_length_inp = target_tensor.shape[1], input_tensor.shape[1]"
      ],
      "execution_count": null,
      "outputs": []
    },
    {
      "cell_type": "code",
      "metadata": {
        "colab": {
          "base_uri": "https://localhost:8080/"
        },
        "id": "4QILQkOs3jFG",
        "outputId": "e6f90fff-35ce-4a6c-9582-dd0e85de2e9c"
      },
      "source": [
        "input_tensor_train  = input_tensor\n",
        "target_tensor_train = target_tensor\n",
        "\n",
        "print(len(input_tensor_train), len(target_tensor_train), len(input_tensor_val), len(target_tensor_val))\n"
      ],
      "execution_count": null,
      "outputs": [
        {
          "output_type": "stream",
          "text": [
            "30000 30000 2991 2991\n"
          ],
          "name": "stdout"
        }
      ]
    },
    {
      "cell_type": "code",
      "metadata": {
        "colab": {
          "base_uri": "https://localhost:8080/"
        },
        "id": "yS4Y7R-b8w17",
        "outputId": "a8761d8f-8c67-413a-c53c-038c218de1e1"
      },
      "source": [
        "target_tensor_train.shape"
      ],
      "execution_count": null,
      "outputs": [
        {
          "output_type": "execute_result",
          "data": {
            "text/plain": [
              "(30000, 82)"
            ]
          },
          "metadata": {
            "tags": []
          },
          "execution_count": 19
        }
      ]
    },
    {
      "cell_type": "code",
      "metadata": {
        "colab": {
          "base_uri": "https://localhost:8080/"
        },
        "id": "LOCkyoK2JVjE",
        "outputId": "377e09e4-0f6c-4b42-e2d2-ae0830b3e55f"
      },
      "source": [
        "def convert(lang, tensor):\n",
        "  for t in tensor:\n",
        "    if t != 0:\n",
        "      print(f'{t} ----> {lang.index_word[t]}') #id --> word\n",
        "\n",
        "print(\"Target Language; index to word mapping\")\n",
        "convert(lang_tokenizer, target_tensor_train[0])"
      ],
      "execution_count": null,
      "outputs": [
        {
          "output_type": "stream",
          "text": [
            "Target Language; index to word mapping\n",
            "1 ----> <start>\n",
            "734 ----> orange\n",
            "605 ----> juice\n",
            "71 ----> doesn't\n",
            "395 ----> taste\n",
            "88 ----> good\n",
            "17 ----> on\n",
            "2029 ----> cereal\n",
            "3 ----> .\n",
            "2 ----> <end>\n"
          ],
          "name": "stdout"
        }
      ]
    },
    {
      "cell_type": "markdown",
      "metadata": {
        "id": "rgCLkfv5uO3d"
      },
      "source": [
        "### Create a tf.data dataset"
      ]
    },
    {
      "cell_type": "code",
      "metadata": {
        "colab": {
          "base_uri": "https://localhost:8080/"
        },
        "id": "r2-YR3P-Q9be",
        "outputId": "a9b90b66-bb21-4666-e8d4-027e956eccb4"
      },
      "source": [
        "len(lang_tokenizer.word_index)"
      ],
      "execution_count": null,
      "outputs": [
        {
          "output_type": "execute_result",
          "data": {
            "text/plain": [
              "13580"
            ]
          },
          "metadata": {
            "tags": []
          },
          "execution_count": 16
        }
      ]
    },
    {
      "cell_type": "code",
      "metadata": {
        "id": "TqHsArVZ3jFS"
      },
      "source": [
        "BUFFER_SIZE = len(input_tensor_train)\n",
        "BATCH_SIZE = 64\n",
        "steps_per_epoch = len(input_tensor_train)//BATCH_SIZE\n",
        "embedding_dim = 256\n",
        "units = 1024\n",
        "vocab_inp_size = len(lang_tokenizer.word_index)+1 \n",
        "vocab_tar_size = len(lang_tokenizer.word_index)+ 1\n",
        "\n",
        "#input_tensor_train -->X\n",
        "#target_tensor_train -->Y\n",
        "dataset = tf.data.Dataset.from_tensor_slices((input_tensor_train, target_tensor_train)).shuffle(BUFFER_SIZE)\n",
        "dataset = dataset.batch(BATCH_SIZE, drop_remainder=True)"
      ],
      "execution_count": null,
      "outputs": []
    },
    {
      "cell_type": "code",
      "metadata": {
        "colab": {
          "base_uri": "https://localhost:8080/"
        },
        "id": "qc6-NK1GtWQt",
        "outputId": "39bf51b7-14cb-43cd-b6f6-b4f15252ce35"
      },
      "source": [
        "example_input_batch, example_target_batch = next(iter(dataset))\n",
        "example_input_batch.shape, example_target_batch.shape"
      ],
      "execution_count": null,
      "outputs": [
        {
          "output_type": "execute_result",
          "data": {
            "text/plain": [
              "(TensorShape([64, 27]), TensorShape([64, 82]))"
            ]
          },
          "metadata": {
            "tags": []
          },
          "execution_count": 17
        }
      ]
    },
    {
      "cell_type": "markdown",
      "source": [
        "##Encoder_decoder"
      ],
      "metadata": {
        "id": "m2oSH5VRb4BT"
      }
    },
    {
      "cell_type": "code",
      "metadata": {
        "id": "nZ2rI24i3jFg"
      },
      "source": [
        "class Encoder(tf.keras.Model):\n",
        "    #It contains an embedding layer and a GRU.\n",
        "  def __init__(self, vocab_size, embedding_dim, enc_units, batch_sz):\n",
        "    super(Encoder, self).__init__()\n",
        "    self.batch_sz = batch_sz\n",
        "    self.enc_units = enc_units\n",
        "    self.embedding = tf.keras.layers.Embedding(vocab_size, embedding_dim)\n",
        "    self.gru = tf.keras.layers.GRU(self.enc_units,\n",
        "                                   return_sequences=True,\n",
        "                                   return_state=True,\n",
        "                                   recurrent_initializer='glorot_uniform')\n",
        "\n",
        "  def call(self, x, hidden):\n",
        "    x = self.embedding(x)\n",
        "    output, state = self.gru(x, initial_state=hidden)\n",
        "    return output, state\n",
        "\n",
        "  def initialize_hidden_state(self):\n",
        "    return tf.zeros((self.batch_sz, self.enc_units))"
      ],
      "execution_count": null,
      "outputs": []
    },
    {
      "cell_type": "code",
      "metadata": {
        "colab": {
          "base_uri": "https://localhost:8080/"
        },
        "id": "60gSVh05Jl6l",
        "outputId": "da152587-cb17-4e1d-bdf0-daa8e2bb8dfb"
      },
      "source": [
        "encoder = Encoder(vocab_inp_size, embedding_dim, units, BATCH_SIZE)\n",
        "\n",
        "# sample input\n",
        "sample_hidden = encoder.initialize_hidden_state()\n",
        "sample_output, sample_hidden = encoder(example_input_batch, sample_hidden)\n",
        "print('Encoder output shape: (batch size, sequence length, units)', sample_output.shape)\n",
        "print('Encoder Hidden state shape: (batch size, units)', sample_hidden.shape)"
      ],
      "execution_count": null,
      "outputs": [
        {
          "output_type": "stream",
          "text": [
            "Encoder output shape: (batch size, sequence length, units) (64, 27, 1024)\n",
            "Encoder Hidden state shape: (batch size, units) (64, 1024)\n"
          ],
          "name": "stdout"
        }
      ]
    },
    {
      "cell_type": "markdown",
      "metadata": {
        "id": "-milHyffEt65"
      },
      "source": [
        "\n",
        "\n",
        "```\n",
        "With attention, we also use the input context. \n",
        "But not the complete input context, we use the \n",
        "last GRU hidden states to select the part of the \n",
        "input context that we should pay attention to\n",
        "```\n",
        "\n"
      ]
    },
    {
      "cell_type": "code",
      "metadata": {
        "id": "umohpBN2OM94"
      },
      "source": [
        "class BahdanauAttention(tf.keras.layers.Layer):\n",
        "  def __init__(self, units):\n",
        "    super(BahdanauAttention, self).__init__()\n",
        "    self.W1 = tf.keras.layers.Dense(units)\n",
        "    self.W2 = tf.keras.layers.Dense(units)\n",
        "    self.V = tf.keras.layers.Dense(1)\n",
        "\n",
        "  def call(self, query, values):\n",
        "    # query hidden state shape == (batch_size, hidden size)\n",
        "    # query_with_time_axis shape == (batch_size, 1, hidden size)\n",
        "    # values shape == (batch_size, max_len, hidden size)\n",
        "    # we are doing this to broadcast addition along the time axis to calculate the score\n",
        "    query_with_time_axis = tf.expand_dims(query, 1)\n",
        "\n",
        "    # score shape == (batch_size, max_length, 1)\n",
        "    # we get 1 at the last axis because we are applying score to self.V\n",
        "    # the shape of the tensor before applying self.V is (batch_size, max_length, units)\n",
        "    score = self.V(tf.nn.tanh(\n",
        "        self.W1(query_with_time_axis) + self.W2(values)))\n",
        "\n",
        "    # attention_weights shape == (batch_size, max_length, 1)\n",
        "    attention_weights = tf.nn.softmax(score, axis=1)\n",
        "\n",
        "    # context_vector shape after sum == (batch_size, hidden_size)\n",
        "    context_vector = attention_weights * values\n",
        "    context_vector = tf.reduce_sum(context_vector, axis=1)\n",
        "\n",
        "    return context_vector, attention_weights"
      ],
      "execution_count": null,
      "outputs": []
    },
    {
      "cell_type": "code",
      "metadata": {
        "colab": {
          "base_uri": "https://localhost:8080/"
        },
        "id": "k534zTHiDjQU",
        "outputId": "ba248f8f-bd63-4abf-e176-35865584a5af"
      },
      "source": [
        "attention_layer = BahdanauAttention(10)\n",
        "attention_result, attention_weights = attention_layer(sample_hidden, sample_output)\n",
        "\n",
        "print(\"Attention result shape: (batch size, units)\", attention_result.shape)\n",
        "print(\"Attention weights shape: (batch_size, sequence_length, 1)\", attention_weights.shape)"
      ],
      "execution_count": null,
      "outputs": [
        {
          "output_type": "stream",
          "text": [
            "Attention result shape: (batch size, units) (64, 1024)\n",
            "Attention weights shape: (batch_size, sequence_length, 1) (64, 27, 1)\n"
          ],
          "name": "stdout"
        }
      ]
    },
    {
      "cell_type": "code",
      "metadata": {
        "id": "yJ_B3mhW3jFk"
      },
      "source": [
        "class Decoder(tf.keras.Model):\n",
        "  def __init__(self, vocab_size, embedding_dim, dec_units, batch_sz):\n",
        "    super(Decoder, self).__init__()\n",
        "    self.batch_sz = batch_sz\n",
        "    self.dec_units = dec_units\n",
        "    self.embedding = tf.keras.layers.Embedding(vocab_size, embedding_dim)\n",
        "    self.gru = tf.keras.layers.GRU(self.dec_units,\n",
        "                                   return_sequences=True,\n",
        "                                   return_state=True,\n",
        "                                   recurrent_initializer='glorot_uniform')\n",
        "    self.fc = tf.keras.layers.Dense(vocab_size)\n",
        "\n",
        "    # used for attention\n",
        "    self.attention = BahdanauAttention(self.dec_units)\n",
        "\n",
        "  def call(self, x, hidden, enc_output):\n",
        "    # enc_output shape == (batch_size, max_length, hidden_size)\n",
        "    context_vector, attention_weights = self.attention(hidden, enc_output)\n",
        "\n",
        "    # x shape after passing through embedding == (batch_size, 1, embedding_dim)\n",
        "    x = self.embedding(x)\n",
        "\n",
        "    # x shape after concatenation == (batch_size, 1, embedding_dim + hidden_size)\n",
        "    x = tf.concat([tf.expand_dims(context_vector, 1), x], axis=-1)\n",
        "\n",
        "    # passing the concatenated vector to the GRU\n",
        "    output, state = self.gru(x)\n",
        "\n",
        "    # output shape == (batch_size * 1, hidden_size)\n",
        "    output = tf.reshape(output, (-1, output.shape[2]))\n",
        "\n",
        "    # output shape == (batch_size, vocab)\n",
        "    x = self.fc(output)\n",
        "\n",
        "    return x, state, attention_weights"
      ],
      "execution_count": null,
      "outputs": []
    },
    {
      "cell_type": "code",
      "metadata": {
        "colab": {
          "base_uri": "https://localhost:8080/"
        },
        "id": "P5UY8wko3jFp",
        "outputId": "f840a241-b948-4edf-a667-c1506740dffc"
      },
      "source": [
        "decoder = Decoder(vocab_tar_size, embedding_dim, units, BATCH_SIZE)\n",
        "\n",
        "sample_decoder_output, _, _ = decoder(tf.random.uniform((BATCH_SIZE, 1)),\n",
        "                                      sample_hidden, sample_output)\n",
        "\n",
        "print('Decoder output shape: (batch_size, vocab size)', sample_decoder_output.shape)"
      ],
      "execution_count": null,
      "outputs": [
        {
          "output_type": "stream",
          "text": [
            "Decoder output shape: (batch_size, vocab size) (64, 13581)\n"
          ],
          "name": "stdout"
        }
      ]
    },
    {
      "cell_type": "markdown",
      "metadata": {
        "id": "_ch_71VbIRfK"
      },
      "source": [
        "##optimizer and loss function\n",
        "\n",
        "\n"
      ]
    },
    {
      "cell_type": "code",
      "metadata": {
        "id": "WmTHr5iV3jFr"
      },
      "source": [
        "optimizer = tf.keras.optimizers.Adam()\n",
        "loss_object = tf.keras.losses.SparseCategoricalCrossentropy(from_logits=True,\n",
        "                                                            reduction='none')\n",
        "\n",
        "\n",
        "def loss_function(real, pred):\n",
        "  mask = tf.math.logical_not(tf.math.equal(real, 0))\n",
        "  loss_ = loss_object(real, pred)\n",
        "\n",
        "  mask = tf.cast(mask, dtype=loss_.dtype)\n",
        "  loss_ *= mask\n",
        "\n",
        "  return tf.reduce_mean(loss_)"
      ],
      "execution_count": null,
      "outputs": []
    },
    {
      "cell_type": "markdown",
      "metadata": {
        "id": "DMVWzzsfNl4e"
      },
      "source": [
        "## Checkpoints"
      ]
    },
    {
      "cell_type": "code",
      "metadata": {
        "id": "dSBF6gAX4JLK"
      },
      "source": [
        "mkdir training_checkpoints"
      ],
      "execution_count": null,
      "outputs": []
    },
    {
      "cell_type": "code",
      "metadata": {
        "colab": {
          "base_uri": "https://localhost:8080/"
        },
        "id": "nbM4NDwm4MBf",
        "outputId": "000173a4-d782-448f-ed3e-a808ffbc9ffd"
      },
      "source": [
        "ls"
      ],
      "execution_count": null,
      "outputs": [
        {
          "output_type": "stream",
          "text": [
            "\u001b[0m\u001b[01;34msample_data\u001b[0m/\n",
            "\u001b[01;34mSemEval2020-Task4-Commonsense-Validation-and-Explanation\u001b[0m/\n",
            "\u001b[01;34mtraining_checkpoints\u001b[0m/\n"
          ],
          "name": "stdout"
        }
      ]
    },
    {
      "cell_type": "code",
      "metadata": {
        "id": "Zj8bXQTgNwrF"
      },
      "source": [
        "checkpoint_dir = '/content/training_checkpoints/' #./\n",
        "checkpoint_prefix = os.path.join(checkpoint_dir, \"ckpt\")\n",
        "checkpoint = tf.train.Checkpoint(optimizer=optimizer,\n",
        "                                 encoder=encoder,\n",
        "                                 decoder=decoder)"
      ],
      "execution_count": null,
      "outputs": []
    },
    {
      "cell_type": "markdown",
      "metadata": {
        "id": "hpObfY22IddU"
      },
      "source": [
        "## Training\n"
      ]
    },
    {
      "cell_type": "code",
      "metadata": {
        "id": "sC9ArXSsVfqn"
      },
      "source": [
        "@tf.function\n",
        "def train_step(inp, targ, enc_hidden):\n",
        "  loss = 0\n",
        "\n",
        "  with tf.GradientTape() as tape:\n",
        "    enc_output, enc_hidden = encoder(inp, enc_hidden)\n",
        "\n",
        "    dec_hidden = enc_hidden\n",
        "\n",
        "    dec_input = tf.expand_dims([lang_tokenizer.word_index['<start>']] * BATCH_SIZE, 1) #---targ_lang\n",
        "\n",
        "    # Teacher forcing - feeding the target as the next input\n",
        "    for t in range(1, targ.shape[1]):\n",
        "      # passing enc_output to the decoder\n",
        "      predictions, dec_hidden, _ = decoder(dec_input, dec_hidden, enc_output)\n",
        "\n",
        "      loss += loss_function(targ[:, t], predictions)\n",
        "\n",
        "      # using teacher forcing\n",
        "      dec_input = tf.expand_dims(targ[:, t], 1)\n",
        "\n",
        "  batch_loss = (loss / int(targ.shape[1]))\n",
        "\n",
        "  variables = encoder.trainable_variables + decoder.trainable_variables\n",
        "\n",
        "  gradients = tape.gradient(loss, variables)\n",
        "\n",
        "  optimizer.apply_gradients(zip(gradients, variables))\n",
        "\n",
        "  return batch_loss"
      ],
      "execution_count": null,
      "outputs": []
    },
    {
      "cell_type": "code",
      "metadata": {
        "colab": {
          "base_uri": "https://localhost:8080/"
        },
        "id": "ddefjBMa3jF0",
        "outputId": "e638701f-da0d-4f73-cd9a-6e8b8c0303d0"
      },
      "source": [
        "EPOCHS = 55\n",
        "\n",
        "for epoch in range(EPOCHS):\n",
        "  start = time.time()\n",
        "\n",
        "  enc_hidden = encoder.initialize_hidden_state()\n",
        "  total_loss = 0\n",
        "\n",
        "  for (batch, (inp, targ)) in enumerate(dataset.take(steps_per_epoch)):\n",
        "    batch_loss = train_step(inp, targ, enc_hidden)\n",
        "    total_loss += batch_loss\n",
        "\n",
        "    if batch % 100 == 0:\n",
        "      print(f'Epoch {epoch+1} Batch {batch} Loss {batch_loss.numpy():.4f}')\n",
        "  # saving (checkpoint) the model every 2 epochs\n",
        "  if (epoch + 1) % 2 == 0:\n",
        "    checkpoint.save(file_prefix=checkpoint_prefix)\n",
        "\n",
        "  print(f'Epoch {epoch+1} Loss {total_loss/steps_per_epoch:.4f}')\n",
        "  print(f'Time taken for 1 epoch {time.time()-start:.2f} sec\\n')"
      ],
      "execution_count": null,
      "outputs": [
        {
          "output_type": "stream",
          "text": [
            "Epoch 1 Batch 0 Loss 1.0952\n",
            "Epoch 1 Batch 100 Loss 0.6636\n",
            "Epoch 1 Batch 200 Loss 0.6229\n",
            "Epoch 1 Batch 300 Loss 0.5761\n",
            "Epoch 1 Batch 400 Loss 0.6568\n",
            "Epoch 1 Loss 0.6434\n",
            "Time taken for 1 epoch 350.14 sec\n",
            "\n",
            "Epoch 2 Batch 0 Loss 0.5048\n",
            "Epoch 2 Batch 100 Loss 0.5712\n",
            "Epoch 2 Batch 200 Loss 0.5939\n",
            "Epoch 2 Batch 300 Loss 0.5628\n",
            "Epoch 2 Batch 400 Loss 0.5379\n",
            "Epoch 2 Loss 0.5425\n",
            "Time taken for 1 epoch 235.66 sec\n",
            "\n",
            "Epoch 3 Batch 0 Loss 0.5819\n",
            "Epoch 3 Batch 100 Loss 0.5023\n",
            "Epoch 3 Batch 200 Loss 0.4504\n",
            "Epoch 3 Batch 300 Loss 0.4736\n",
            "Epoch 3 Batch 400 Loss 0.5203\n",
            "Epoch 3 Loss 0.4978\n",
            "Time taken for 1 epoch 234.26 sec\n",
            "\n",
            "Epoch 4 Batch 0 Loss 0.4812\n",
            "Epoch 4 Batch 100 Loss 0.4271\n",
            "Epoch 4 Batch 200 Loss 0.4186\n",
            "Epoch 4 Batch 300 Loss 0.4456\n",
            "Epoch 4 Batch 400 Loss 0.4147\n",
            "Epoch 4 Loss 0.4466\n",
            "Time taken for 1 epoch 235.36 sec\n",
            "\n",
            "Epoch 5 Batch 0 Loss 0.4006\n",
            "Epoch 5 Batch 100 Loss 0.3907\n",
            "Epoch 5 Batch 200 Loss 0.3826\n",
            "Epoch 5 Batch 300 Loss 0.3849\n",
            "Epoch 5 Batch 400 Loss 0.3661\n",
            "Epoch 5 Loss 0.3959\n",
            "Time taken for 1 epoch 233.91 sec\n",
            "\n",
            "Epoch 6 Batch 0 Loss 0.3312\n",
            "Epoch 6 Batch 100 Loss 0.3346\n",
            "Epoch 6 Batch 200 Loss 0.3111\n",
            "Epoch 6 Batch 300 Loss 0.3141\n",
            "Epoch 6 Batch 400 Loss 0.4014\n",
            "Epoch 6 Loss 0.3481\n",
            "Time taken for 1 epoch 234.63 sec\n",
            "\n",
            "Epoch 7 Batch 0 Loss 0.3144\n",
            "Epoch 7 Batch 100 Loss 0.3451\n",
            "Epoch 7 Batch 200 Loss 0.3324\n",
            "Epoch 7 Batch 300 Loss 0.3231\n",
            "Epoch 7 Batch 400 Loss 0.3058\n",
            "Epoch 7 Loss 0.3044\n",
            "Time taken for 1 epoch 233.51 sec\n",
            "\n",
            "Epoch 8 Batch 0 Loss 0.2632\n",
            "Epoch 8 Batch 100 Loss 0.2300\n",
            "Epoch 8 Batch 200 Loss 0.2257\n",
            "Epoch 8 Batch 300 Loss 0.2841\n",
            "Epoch 8 Batch 400 Loss 0.2802\n",
            "Epoch 8 Loss 0.2664\n",
            "Time taken for 1 epoch 234.76 sec\n",
            "\n",
            "Epoch 9 Batch 0 Loss 0.2229\n",
            "Epoch 9 Batch 100 Loss 0.2089\n",
            "Epoch 9 Batch 200 Loss 0.2271\n",
            "Epoch 9 Batch 300 Loss 0.2319\n",
            "Epoch 9 Batch 400 Loss 0.2582\n",
            "Epoch 9 Loss 0.2343\n",
            "Time taken for 1 epoch 234.10 sec\n",
            "\n",
            "Epoch 10 Batch 0 Loss 0.2427\n",
            "Epoch 10 Batch 100 Loss 0.2032\n",
            "Epoch 10 Batch 200 Loss 0.2107\n",
            "Epoch 10 Batch 300 Loss 0.2120\n",
            "Epoch 10 Batch 400 Loss 0.2383\n",
            "Epoch 10 Loss 0.2069\n",
            "Time taken for 1 epoch 234.81 sec\n",
            "\n",
            "Epoch 11 Batch 0 Loss 0.1583\n",
            "Epoch 11 Batch 100 Loss 0.1668\n",
            "Epoch 11 Batch 200 Loss 0.1712\n",
            "Epoch 11 Batch 300 Loss 0.1930\n",
            "Epoch 11 Batch 400 Loss 0.1820\n",
            "Epoch 11 Loss 0.1825\n",
            "Time taken for 1 epoch 233.47 sec\n",
            "\n",
            "Epoch 12 Batch 0 Loss 0.1472\n",
            "Epoch 12 Batch 100 Loss 0.1410\n",
            "Epoch 12 Batch 200 Loss 0.1742\n",
            "Epoch 12 Batch 300 Loss 0.1584\n",
            "Epoch 12 Batch 400 Loss 0.1732\n",
            "Epoch 12 Loss 0.1613\n",
            "Time taken for 1 epoch 234.47 sec\n",
            "\n",
            "Epoch 13 Batch 0 Loss 0.1254\n",
            "Epoch 13 Batch 100 Loss 0.1453\n",
            "Epoch 13 Batch 200 Loss 0.1420\n",
            "Epoch 13 Batch 300 Loss 0.1489\n",
            "Epoch 13 Batch 400 Loss 0.1439\n",
            "Epoch 13 Loss 0.1423\n",
            "Time taken for 1 epoch 233.24 sec\n",
            "\n",
            "Epoch 14 Batch 0 Loss 0.1153\n",
            "Epoch 14 Batch 100 Loss 0.1178\n",
            "Epoch 14 Batch 200 Loss 0.1209\n",
            "Epoch 14 Batch 300 Loss 0.1290\n",
            "Epoch 14 Batch 400 Loss 0.1469\n",
            "Epoch 14 Loss 0.1255\n",
            "Time taken for 1 epoch 234.43 sec\n",
            "\n",
            "Epoch 15 Batch 0 Loss 0.0875\n",
            "Epoch 15 Batch 100 Loss 0.1062\n",
            "Epoch 15 Batch 200 Loss 0.1191\n",
            "Epoch 15 Batch 300 Loss 0.1085\n",
            "Epoch 15 Batch 400 Loss 0.1292\n",
            "Epoch 15 Loss 0.1114\n",
            "Time taken for 1 epoch 233.45 sec\n",
            "\n",
            "Epoch 16 Batch 0 Loss 0.0751\n",
            "Epoch 16 Batch 100 Loss 0.0923\n",
            "Epoch 16 Batch 200 Loss 0.0903\n",
            "Epoch 16 Batch 300 Loss 0.1022\n",
            "Epoch 16 Batch 400 Loss 0.1075\n",
            "Epoch 16 Loss 0.0987\n",
            "Time taken for 1 epoch 234.30 sec\n",
            "\n",
            "Epoch 17 Batch 0 Loss 0.0800\n",
            "Epoch 17 Batch 100 Loss 0.0831\n",
            "Epoch 17 Batch 200 Loss 0.0827\n",
            "Epoch 17 Batch 300 Loss 0.0894\n",
            "Epoch 17 Batch 400 Loss 0.1141\n",
            "Epoch 17 Loss 0.0889\n",
            "Time taken for 1 epoch 233.84 sec\n",
            "\n",
            "Epoch 18 Batch 0 Loss 0.0548\n",
            "Epoch 18 Batch 100 Loss 0.0741\n",
            "Epoch 18 Batch 200 Loss 0.0803\n",
            "Epoch 18 Batch 300 Loss 0.0850\n",
            "Epoch 18 Batch 400 Loss 0.0858\n",
            "Epoch 18 Loss 0.0803\n",
            "Time taken for 1 epoch 234.83 sec\n",
            "\n",
            "Epoch 19 Batch 0 Loss 0.0713\n",
            "Epoch 19 Batch 100 Loss 0.0697\n",
            "Epoch 19 Batch 200 Loss 0.0637\n",
            "Epoch 19 Batch 300 Loss 0.0787\n",
            "Epoch 19 Batch 400 Loss 0.0884\n",
            "Epoch 19 Loss 0.0728\n",
            "Time taken for 1 epoch 233.20 sec\n",
            "\n",
            "Epoch 20 Batch 0 Loss 0.0528\n",
            "Epoch 20 Batch 100 Loss 0.0538\n",
            "Epoch 20 Batch 200 Loss 0.0687\n",
            "Epoch 20 Batch 300 Loss 0.0759\n",
            "Epoch 20 Batch 400 Loss 0.0711\n",
            "Epoch 20 Loss 0.0675\n",
            "Time taken for 1 epoch 234.16 sec\n",
            "\n",
            "Epoch 21 Batch 0 Loss 0.0541\n",
            "Epoch 21 Batch 100 Loss 0.0519\n",
            "Epoch 21 Batch 200 Loss 0.0673\n",
            "Epoch 21 Batch 300 Loss 0.0613\n",
            "Epoch 21 Batch 400 Loss 0.0719\n",
            "Epoch 21 Loss 0.0639\n",
            "Time taken for 1 epoch 233.64 sec\n",
            "\n",
            "Epoch 22 Batch 0 Loss 0.0471\n",
            "Epoch 22 Batch 100 Loss 0.0477\n",
            "Epoch 22 Batch 200 Loss 0.0534\n",
            "Epoch 22 Batch 300 Loss 0.0634\n",
            "Epoch 22 Batch 400 Loss 0.0813\n",
            "Epoch 22 Loss 0.0611\n",
            "Time taken for 1 epoch 234.80 sec\n",
            "\n",
            "Epoch 23 Batch 0 Loss 0.0492\n",
            "Epoch 23 Batch 100 Loss 0.0523\n",
            "Epoch 23 Batch 200 Loss 0.0578\n",
            "Epoch 23 Batch 300 Loss 0.0613\n",
            "Epoch 23 Batch 400 Loss 0.0648\n",
            "Epoch 23 Loss 0.0582\n",
            "Time taken for 1 epoch 233.74 sec\n",
            "\n",
            "Epoch 24 Batch 0 Loss 0.0385\n",
            "Epoch 24 Batch 100 Loss 0.0496\n",
            "Epoch 24 Batch 200 Loss 0.0506\n",
            "Epoch 24 Batch 300 Loss 0.0591\n",
            "Epoch 24 Batch 400 Loss 0.0664\n",
            "Epoch 24 Loss 0.0560\n",
            "Time taken for 1 epoch 234.71 sec\n",
            "\n",
            "Epoch 25 Batch 0 Loss 0.0465\n",
            "Epoch 25 Batch 100 Loss 0.0514\n",
            "Epoch 25 Batch 200 Loss 0.0565\n",
            "Epoch 25 Batch 300 Loss 0.0535\n",
            "Epoch 25 Batch 400 Loss 0.0635\n",
            "Epoch 25 Loss 0.0543\n",
            "Time taken for 1 epoch 233.52 sec\n",
            "\n",
            "Epoch 26 Batch 0 Loss 0.0401\n",
            "Epoch 26 Batch 100 Loss 0.0410\n",
            "Epoch 26 Batch 200 Loss 0.0514\n",
            "Epoch 26 Batch 300 Loss 0.0527\n",
            "Epoch 26 Batch 400 Loss 0.0630\n",
            "Epoch 26 Loss 0.0532\n",
            "Time taken for 1 epoch 236.39 sec\n",
            "\n",
            "Epoch 27 Batch 0 Loss 0.0436\n",
            "Epoch 27 Batch 100 Loss 0.0455\n",
            "Epoch 27 Batch 200 Loss 0.0491\n",
            "Epoch 27 Batch 300 Loss 0.0516\n",
            "Epoch 27 Batch 400 Loss 0.0536\n",
            "Epoch 27 Loss 0.0522\n",
            "Time taken for 1 epoch 234.77 sec\n",
            "\n",
            "Epoch 28 Batch 0 Loss 0.0444\n",
            "Epoch 28 Batch 100 Loss 0.0483\n",
            "Epoch 28 Batch 200 Loss 0.0459\n",
            "Epoch 28 Batch 300 Loss 0.0644\n",
            "Epoch 28 Batch 400 Loss 0.0562\n",
            "Epoch 28 Loss 0.0505\n",
            "Time taken for 1 epoch 235.50 sec\n",
            "\n",
            "Epoch 29 Batch 0 Loss 0.0535\n",
            "Epoch 29 Batch 100 Loss 0.0459\n",
            "Epoch 29 Batch 200 Loss 0.0473\n",
            "Epoch 29 Batch 300 Loss 0.0551\n",
            "Epoch 29 Batch 400 Loss 0.0653\n",
            "Epoch 29 Loss 0.0496\n",
            "Time taken for 1 epoch 233.84 sec\n",
            "\n",
            "Epoch 30 Batch 0 Loss 0.0390\n",
            "Epoch 30 Batch 100 Loss 0.0432\n",
            "Epoch 30 Batch 200 Loss 0.0485\n",
            "Epoch 30 Batch 300 Loss 0.0529\n",
            "Epoch 30 Batch 400 Loss 0.0560\n",
            "Epoch 30 Loss 0.0490\n",
            "Time taken for 1 epoch 235.39 sec\n",
            "\n",
            "Epoch 31 Batch 0 Loss 0.0386\n",
            "Epoch 31 Batch 100 Loss 0.0390\n",
            "Epoch 31 Batch 200 Loss 0.0512\n",
            "Epoch 31 Batch 300 Loss 0.0492\n",
            "Epoch 31 Batch 400 Loss 0.0501\n",
            "Epoch 31 Loss 0.0480\n",
            "Time taken for 1 epoch 233.79 sec\n",
            "\n",
            "Epoch 32 Batch 0 Loss 0.0316\n",
            "Epoch 32 Batch 100 Loss 0.0443\n",
            "Epoch 32 Batch 200 Loss 0.0436\n",
            "Epoch 32 Batch 300 Loss 0.0527\n",
            "Epoch 32 Batch 400 Loss 0.0535\n",
            "Epoch 32 Loss 0.0482\n",
            "Time taken for 1 epoch 235.07 sec\n",
            "\n",
            "Epoch 33 Batch 0 Loss 0.0398\n",
            "Epoch 33 Batch 100 Loss 0.0454\n",
            "Epoch 33 Batch 200 Loss 0.0497\n",
            "Epoch 33 Batch 300 Loss 0.0441\n",
            "Epoch 33 Batch 400 Loss 0.0540\n",
            "Epoch 33 Loss 0.0471\n",
            "Time taken for 1 epoch 233.74 sec\n",
            "\n",
            "Epoch 34 Batch 0 Loss 0.0380\n",
            "Epoch 34 Batch 100 Loss 0.0455\n",
            "Epoch 34 Batch 200 Loss 0.0501\n",
            "Epoch 34 Batch 300 Loss 0.0518\n",
            "Epoch 34 Batch 400 Loss 0.0528\n",
            "Epoch 34 Loss 0.0465\n",
            "Time taken for 1 epoch 234.81 sec\n",
            "\n",
            "Epoch 35 Batch 0 Loss 0.0332\n",
            "Epoch 35 Batch 100 Loss 0.0372\n",
            "Epoch 35 Batch 200 Loss 0.0372\n",
            "Epoch 35 Batch 300 Loss 0.0477\n",
            "Epoch 35 Batch 400 Loss 0.0527\n",
            "Epoch 35 Loss 0.0457\n",
            "Time taken for 1 epoch 233.97 sec\n",
            "\n",
            "Epoch 36 Batch 0 Loss 0.0332\n",
            "Epoch 36 Batch 100 Loss 0.0428\n",
            "Epoch 36 Batch 200 Loss 0.0529\n",
            "Epoch 36 Batch 300 Loss 0.0487\n",
            "Epoch 36 Batch 400 Loss 0.0495\n",
            "Epoch 36 Loss 0.0472\n",
            "Time taken for 1 epoch 234.83 sec\n",
            "\n",
            "Epoch 37 Batch 0 Loss 0.0441\n",
            "Epoch 37 Batch 100 Loss 0.0380\n",
            "Epoch 37 Batch 200 Loss 0.0495\n",
            "Epoch 37 Batch 300 Loss 0.0493\n",
            "Epoch 37 Batch 400 Loss 0.0459\n",
            "Epoch 37 Loss 0.0460\n",
            "Time taken for 1 epoch 233.46 sec\n",
            "\n",
            "Epoch 38 Batch 0 Loss 0.0315\n",
            "Epoch 38 Batch 100 Loss 0.0347\n",
            "Epoch 38 Batch 200 Loss 0.0418\n",
            "Epoch 38 Batch 300 Loss 0.0497\n",
            "Epoch 38 Batch 400 Loss 0.0458\n",
            "Epoch 38 Loss 0.0438\n",
            "Time taken for 1 epoch 235.48 sec\n",
            "\n",
            "Epoch 39 Batch 0 Loss 0.0328\n",
            "Epoch 39 Batch 100 Loss 0.0361\n",
            "Epoch 39 Batch 200 Loss 0.0365\n",
            "Epoch 39 Batch 300 Loss 0.0490\n",
            "Epoch 39 Batch 400 Loss 0.0450\n",
            "Epoch 39 Loss 0.0432\n",
            "Time taken for 1 epoch 236.38 sec\n",
            "\n",
            "Epoch 40 Batch 0 Loss 0.0392\n",
            "Epoch 40 Batch 100 Loss 0.0410\n",
            "Epoch 40 Batch 200 Loss 0.0376\n",
            "Epoch 40 Batch 300 Loss 0.0446\n",
            "Epoch 40 Batch 400 Loss 0.0521\n",
            "Epoch 40 Loss 0.0428\n",
            "Time taken for 1 epoch 235.48 sec\n",
            "\n",
            "Epoch 41 Batch 0 Loss 0.0378\n",
            "Epoch 41 Batch 100 Loss 0.0393\n",
            "Epoch 41 Batch 200 Loss 0.0475\n",
            "Epoch 41 Batch 300 Loss 0.0469\n",
            "Epoch 41 Batch 400 Loss 0.0531\n",
            "Epoch 41 Loss 0.0429\n",
            "Time taken for 1 epoch 233.57 sec\n",
            "\n",
            "Epoch 42 Batch 0 Loss 0.0335\n",
            "Epoch 42 Batch 100 Loss 0.0328\n",
            "Epoch 42 Batch 200 Loss 0.0432\n",
            "Epoch 42 Batch 300 Loss 0.0454\n",
            "Epoch 42 Batch 400 Loss 0.0435\n",
            "Epoch 42 Loss 0.0430\n",
            "Time taken for 1 epoch 234.35 sec\n",
            "\n",
            "Epoch 43 Batch 0 Loss 0.0317\n",
            "Epoch 43 Batch 100 Loss 0.0345\n",
            "Epoch 43 Batch 200 Loss 0.0463\n",
            "Epoch 43 Batch 300 Loss 0.0413\n",
            "Epoch 43 Batch 400 Loss 0.0448\n",
            "Epoch 43 Loss 0.0428\n",
            "Time taken for 1 epoch 233.45 sec\n",
            "\n",
            "Epoch 44 Batch 0 Loss 0.0328\n",
            "Epoch 44 Batch 100 Loss 0.0362\n",
            "Epoch 44 Batch 200 Loss 0.0373\n",
            "Epoch 44 Batch 300 Loss 0.0438\n",
            "Epoch 44 Batch 400 Loss 0.0504\n",
            "Epoch 44 Loss 0.0420\n",
            "Time taken for 1 epoch 234.46 sec\n",
            "\n",
            "Epoch 45 Batch 0 Loss 0.0287\n",
            "Epoch 45 Batch 100 Loss 0.0409\n",
            "Epoch 45 Batch 200 Loss 0.0401\n",
            "Epoch 45 Batch 300 Loss 0.0442\n",
            "Epoch 45 Batch 400 Loss 0.0468\n",
            "Epoch 45 Loss 0.0418\n",
            "Time taken for 1 epoch 233.32 sec\n",
            "\n",
            "Epoch 46 Batch 0 Loss 0.0312\n",
            "Epoch 46 Batch 100 Loss 0.0423\n",
            "Epoch 46 Batch 200 Loss 0.0396\n",
            "Epoch 46 Batch 300 Loss 0.0495\n",
            "Epoch 46 Batch 400 Loss 0.0429\n",
            "Epoch 46 Loss 0.0418\n",
            "Time taken for 1 epoch 234.19 sec\n",
            "\n",
            "Epoch 47 Batch 0 Loss 0.0317\n",
            "Epoch 47 Batch 100 Loss 0.0361\n",
            "Epoch 47 Batch 200 Loss 0.0414\n",
            "Epoch 47 Batch 300 Loss 0.0415\n",
            "Epoch 47 Batch 400 Loss 0.0488\n",
            "Epoch 47 Loss 0.0418\n",
            "Time taken for 1 epoch 233.43 sec\n",
            "\n",
            "Epoch 48 Batch 0 Loss 0.0322\n",
            "Epoch 48 Batch 100 Loss 0.0324\n",
            "Epoch 48 Batch 200 Loss 0.0356\n",
            "Epoch 48 Batch 300 Loss 0.0429\n",
            "Epoch 48 Batch 400 Loss 0.0417\n",
            "Epoch 48 Loss 0.0413\n",
            "Time taken for 1 epoch 234.80 sec\n",
            "\n",
            "Epoch 49 Batch 0 Loss 0.0280\n",
            "Epoch 49 Batch 100 Loss 0.0414\n",
            "Epoch 49 Batch 200 Loss 0.0376\n",
            "Epoch 49 Batch 300 Loss 0.0456\n",
            "Epoch 49 Batch 400 Loss 0.0451\n",
            "Epoch 49 Loss 0.0410\n",
            "Time taken for 1 epoch 233.35 sec\n",
            "\n",
            "Epoch 50 Batch 0 Loss 0.0405\n",
            "Epoch 50 Batch 100 Loss 0.0379\n",
            "Epoch 50 Batch 200 Loss 0.0453\n",
            "Epoch 50 Batch 300 Loss 0.0459\n",
            "Epoch 50 Batch 400 Loss 0.0364\n",
            "Epoch 50 Loss 0.0405\n",
            "Time taken for 1 epoch 234.44 sec\n",
            "\n",
            "Epoch 51 Batch 0 Loss 0.0303\n",
            "Epoch 51 Batch 100 Loss 0.0357\n",
            "Epoch 51 Batch 200 Loss 0.0330\n",
            "Epoch 51 Batch 300 Loss 0.0382\n",
            "Epoch 51 Batch 400 Loss 0.0475\n",
            "Epoch 51 Loss 0.0399\n",
            "Time taken for 1 epoch 233.71 sec\n",
            "\n",
            "Epoch 52 Batch 0 Loss 0.0314\n",
            "Epoch 52 Batch 100 Loss 0.0305\n",
            "Epoch 52 Batch 200 Loss 0.0395\n",
            "Epoch 52 Batch 300 Loss 0.0451\n",
            "Epoch 52 Batch 400 Loss 0.0448\n",
            "Epoch 52 Loss 0.0402\n",
            "Time taken for 1 epoch 234.35 sec\n",
            "\n",
            "Epoch 53 Batch 0 Loss 0.0288\n",
            "Epoch 53 Batch 100 Loss 0.0298\n",
            "Epoch 53 Batch 200 Loss 0.0405\n",
            "Epoch 53 Batch 300 Loss 0.0428\n",
            "Epoch 53 Batch 400 Loss 0.0476\n",
            "Epoch 53 Loss 0.0403\n",
            "Time taken for 1 epoch 233.28 sec\n",
            "\n",
            "Epoch 54 Batch 0 Loss 0.0342\n",
            "Epoch 54 Batch 100 Loss 0.0266\n",
            "Epoch 54 Batch 200 Loss 0.0389\n",
            "Epoch 54 Batch 300 Loss 0.0442\n",
            "Epoch 54 Batch 400 Loss 0.0447\n",
            "Epoch 54 Loss 0.0400\n",
            "Time taken for 1 epoch 234.40 sec\n",
            "\n",
            "Epoch 55 Batch 0 Loss 0.0312\n",
            "Epoch 55 Batch 100 Loss 0.0409\n",
            "Epoch 55 Batch 200 Loss 0.0375\n",
            "Epoch 55 Batch 300 Loss 0.0422\n",
            "Epoch 55 Batch 400 Loss 0.0427\n",
            "Epoch 55 Loss 0.0393\n",
            "Time taken for 1 epoch 233.21 sec\n",
            "\n"
          ],
          "name": "stdout"
        }
      ]
    },
    {
      "cell_type": "markdown",
      "metadata": {
        "id": "mU3Ce8M6I3rz"
      },
      "source": [
        "## Generation"
      ]
    },
    {
      "cell_type": "code",
      "metadata": {
        "id": "EbQpyYs13jF_"
      },
      "source": [
        "def evaluate(sentence):\n",
        "  attention_plot = np.zeros((max_length_targ, max_length_inp))\n",
        "\n",
        "  sentence = preprocess_sentence(sentence)\n",
        "\n",
        "  inputs = [lang_tokenizer.word_index[i] for i in sentence.split(' ')] #inp_lang\n",
        "  inputs = tf.keras.preprocessing.sequence.pad_sequences([inputs],\n",
        "                                                         maxlen=max_length_inp,\n",
        "                                                         padding='post')\n",
        "  inputs = tf.convert_to_tensor(inputs)\n",
        "\n",
        "  result = ''\n",
        "\n",
        "  hidden = [tf.zeros((1, units))]\n",
        "  enc_out, enc_hidden = encoder(inputs, hidden)\n",
        "\n",
        "  dec_hidden = enc_hidden\n",
        "  dec_input = tf.expand_dims([lang_tokenizer.word_index['<start>']], 0) #-----targ_lang\n",
        "\n",
        "  for t in range(max_length_targ):\n",
        "    predictions, dec_hidden, attention_weights = decoder(dec_input,\n",
        "                                                         dec_hidden,\n",
        "                                                         enc_out)\n",
        "\n",
        "    # storing the attention weights to plot later on\n",
        "    attention_weights = tf.reshape(attention_weights, (-1, ))\n",
        "    attention_plot[t] = attention_weights.numpy()\n",
        "\n",
        "    predicted_id = tf.argmax(predictions[0]).numpy()\n",
        "\n",
        "    result += lang_tokenizer.index_word[predicted_id] + ' ' #---targ_lang\n",
        "\n",
        "    if lang_tokenizer.index_word[predicted_id] == '<end>': #----targ_lang\n",
        "      return result, sentence, attention_plot\n",
        "\n",
        "    # the predicted ID is fed back into the model\n",
        "    dec_input = tf.expand_dims([predicted_id], 0)\n",
        "\n",
        "  return result, sentence, attention_plot"
      ],
      "execution_count": null,
      "outputs": []
    },
    {
      "cell_type": "code",
      "metadata": {
        "id": "s5hQWlbN3jGF"
      },
      "source": [
        "# function for plotting the attention weights\n",
        "def plot_attention(attention, sentence, predicted_sentence):\n",
        "  fig = plt.figure(figsize=(10, 10))\n",
        "  ax = fig.add_subplot(1, 1, 1)\n",
        "  ax.matshow(attention, cmap='viridis')\n",
        "\n",
        "  fontdict = {'fontsize': 14}\n",
        "\n",
        "  ax.set_xticklabels([''] + sentence, fontdict=fontdict, rotation=90)\n",
        "  ax.set_yticklabels([''] + predicted_sentence, fontdict=fontdict)\n",
        "\n",
        "  ax.xaxis.set_major_locator(ticker.MultipleLocator(1))\n",
        "  ax.yaxis.set_major_locator(ticker.MultipleLocator(1))\n",
        "\n",
        "  plt.show()"
      ],
      "execution_count": null,
      "outputs": []
    },
    {
      "cell_type": "code",
      "metadata": {
        "id": "sl9zUHzg3jGI"
      },
      "source": [
        "def translate(sentence):\n",
        "  result, sentence, attention_plot = evaluate(sentence)\n",
        "\n",
        "  \n",
        "  print('Input:', sentence)\n",
        "  print('Predicted translation:', result)\n",
        "  return result\n",
        "  #attention_plot = attention_plot[:len(result.split(' ')),:len(sentence.split(' '))]\n",
        "  #plot_attention(attention_plot, sentence.split(' '), result.split(' '))"
      ],
      "execution_count": null,
      "outputs": []
    },
    {
      "cell_type": "markdown",
      "metadata": {
        "id": "n250XbnjOaqP"
      },
      "source": [
        "## Restore the latest checkpoint and test"
      ]
    },
    {
      "cell_type": "code",
      "metadata": {
        "id": "UJpT9D5_OgP6",
        "colab": {
          "base_uri": "https://localhost:8080/"
        },
        "outputId": "4345572e-0a92-4115-e417-dfbbd49ac658"
      },
      "source": [
        "# restoring the latest checkpoint in checkpoint_dir\n",
        "checkpoint.restore(tf.train.latest_checkpoint(checkpoint_dir))"
      ],
      "execution_count": null,
      "outputs": [
        {
          "output_type": "execute_result",
          "data": {
            "text/plain": [
              "<tensorflow.python.training.tracking.util.CheckpointLoadStatus at 0x7f99beb913d0>"
            ]
          },
          "metadata": {
            "tags": []
          },
          "execution_count": 33
        }
      ]
    },
    {
      "cell_type": "code",
      "metadata": {
        "id": "BrwkdEy0hiAq"
      },
      "source": [
        "#----generation\n",
        "output = []\n",
        "output.append(input_test['FalseSent'].map(lambda x:translate(x)))\n",
        "\n",
        "#write predivtion into\n",
        "df = pd.DataFrame(output)\n",
        "df.head(3)\n",
        "df.to_csv('seq2seq55.csv')"
      ],
      "execution_count": null,
      "outputs": []
    },
    {
      "cell_type": "code",
      "metadata": {
        "colab": {
          "base_uri": "https://localhost:8080/",
          "height": 69
        },
        "id": "Jt2rrVSCC55P",
        "outputId": "a04eed30-d887-43f6-9a64-17db85e844f2"
      },
      "source": [
        "translate('sugar is used to make coffee sour')\n",
        "\n"
      ],
      "execution_count": null,
      "outputs": [
        {
          "output_type": "stream",
          "text": [
            "Input: <start> sugar is used to make coffee sour <end>\n",
            "Predicted translation: sugar is sweet . <end> \n"
          ],
          "name": "stdout"
        },
        {
          "output_type": "execute_result",
          "data": {
            "application/vnd.google.colaboratory.intrinsic+json": {
              "type": "string"
            },
            "text/plain": [
              "\"\\nfor i in range(len(input_test['FalseSent'])):\\n    translate(input_test['FalseSent'][i])\""
            ]
          },
          "metadata": {
            "tags": []
          },
          "execution_count": 36
        }
      ]
    },
    {
      "cell_type": "code",
      "metadata": {
        "colab": {
          "base_uri": "https://localhost:8080/"
        },
        "id": "MyIhyay3SUbe",
        "outputId": "43dd771a-9cca-4dd2-be45-1da37954f781"
      },
      "source": [
        "translate('The desert has sand that you can drink.')"
      ],
      "execution_count": null,
      "outputs": [
        {
          "output_type": "stream",
          "text": [
            "Input: <start> the desert has sand that you can drink . <end>\n",
            "Predicted translation: sand is not a solid and cannot be eaten . <end> \n"
          ],
          "name": "stdout"
        }
      ]
    },
    {
      "cell_type": "code",
      "metadata": {
        "colab": {
          "base_uri": "https://localhost:8080/",
          "height": 69
        },
        "id": "XtWEm08re6YL",
        "outputId": "c9036b21-cea3-4f13-8fcf-75a98e49715d"
      },
      "source": [
        "#one 17\n",
        "translate(u'The window looks out her') "
      ],
      "execution_count": null,
      "outputs": [
        {
          "output_type": "stream",
          "text": [
            "Input: <start> the window looks out her <end>\n",
            "Predicted translation: windows are not alive <end> \n"
          ],
          "name": "stdout"
        },
        {
          "output_type": "execute_result",
          "data": {
            "application/vnd.google.colaboratory.intrinsic+json": {
              "type": "string"
            },
            "text/plain": [
              "'windows are not alive <end> '"
            ]
          },
          "metadata": {
            "tags": []
          },
          "execution_count": 46
        }
      ]
    }
  ]
}